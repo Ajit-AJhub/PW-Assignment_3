{
 "cells": [
  {
   "cell_type": "code",
   "execution_count": null,
   "id": "a1044450-4398-4375-bf3e-ac72dba76c4a",
   "metadata": {},
   "outputs": [],
   "source": [
    "Q1. Which keyword is used to create a function? Create a function to return a list of odd numbers in the \n",
    "range of 1 to 25?\n",
    "ans 1- The keyword used to create a function in Python is \"def\". \n",
    "Here's an example of a function that returns a list of odd numbers in the range of 1 to 25:\n"
   ]
  },
  {
   "cell_type": "code",
   "execution_count": 42,
   "id": "0bc6b5c7-278a-4fe4-9a1d-0e0fd5b42cf9",
   "metadata": {},
   "outputs": [],
   "source": [
    "def Odd_num():\n",
    "    \n",
    "    l=[]\n",
    "    for i in range(1,25):\n",
    "        if i%2 != 0:\n",
    "            l.append(i)\n",
    "    return l"
   ]
  },
  {
   "cell_type": "code",
   "execution_count": 43,
   "id": "d1ade4f4-6a57-4736-86ee-48acbc3eee8c",
   "metadata": {},
   "outputs": [
    {
     "data": {
      "text/plain": [
       "[1, 3, 5, 7, 9, 11, 13, 15, 17, 19, 21, 23]"
      ]
     },
     "execution_count": 43,
     "metadata": {},
     "output_type": "execute_result"
    }
   ],
   "source": [
    "Odd_num()"
   ]
  },
  {
   "cell_type": "code",
   "execution_count": null,
   "id": "dc423c71-e0a3-4fb5-a33a-178054bd4cb8",
   "metadata": {},
   "outputs": [],
   "source": [
    "Q2. Why *args and **kwargs is used in some functions? Create a function each for *args and **kwargs \n",
    "to demonstrate their use.\n",
    "ans 2-\n",
    "In Python, *args and **kwargs are used in function definitions to allow the passing of a variable number of arguments.\n",
    "\n",
    "*args (Arbitrary Arguments): The args parameter allows a function to accept any number of positional arguments. \n",
    "The asterisk () before \"args\" indicates that multiple arguments can be passed, and they will be packed into a tuple.\n",
    "\n",
    "**kwargs (Keyword Arguments): The kwargs parameter allows a function to accept any number of keyword arguments. \n",
    "The double asterisks () before \"kwargs\" indicate that multiple keyword arguments can be passed,\n",
    "and they will be packed into a dictionary."
   ]
  },
  {
   "cell_type": "code",
   "execution_count": 44,
   "id": "4f494749-c296-4694-81ed-19cc977c2fba",
   "metadata": {},
   "outputs": [],
   "source": [
    "\n",
    "def demo1(*args):\n",
    "    \"\"\"a function for *args to demonstrate its use.\"\"\"\n",
    "    index=0\n",
    "    for i in args:\n",
    "        print(\"The args[\"+str(index)+\"] having:\",i)\n",
    "        index+=1"
   ]
  },
  {
   "cell_type": "code",
   "execution_count": 46,
   "id": "fdc14ee9-66b7-416a-beb9-0be4b4b16c48",
   "metadata": {},
   "outputs": [
    {
     "name": "stdout",
     "output_type": "stream",
     "text": [
      "The args[0] having: ajit\n",
      "The args[1] having: 5\n",
      "The args[2] having: 6\n",
      "The args[3] having: 8\n",
      "The args[4] having: 6\n",
      "The args[5] having: 4\n"
     ]
    }
   ],
   "source": [
    "demo1(\"ajit\",5,6,8,6,4)"
   ]
  },
  {
   "cell_type": "code",
   "execution_count": 1,
   "id": "18dd4612-f9ca-4805-8f3e-10a3bbe658c9",
   "metadata": {},
   "outputs": [
    {
     "name": "stdout",
     "output_type": "stream",
     "text": [
      "name: John\n",
      "age: 25\n",
      "city: New York\n"
     ]
    }
   ],
   "source": [
    "\n",
    "def print_person_info(**kwargs):\n",
    "    for key, value in kwargs.items():\n",
    "        print(f\"{key}: {value}\")\n",
    "\n",
    "print_person_info(name=\"Ajit\", age=25, city=\"New York\")\n"
   ]
  },
  {
   "cell_type": "code",
   "execution_count": null,
   "id": "158fd5ba-f886-4f0c-9b49-bf222cf1b1d1",
   "metadata": {},
   "outputs": [],
   "source": [
    "Q3.  What is an iterator in python? Name the method used to initialise the iterator object and the method \n",
    "used for iteration. Use these methods to print the first five elements of the given list [2, 4, 6, 8, 10, 12, 14, \n",
    "16, 18, 20].\n",
    "\n",
    "ans3- In Python, an iterator is an object that allows traversal through a collection of elements, \n",
    "one element at a time, without the need to access the underlying structure of the collection.\n",
    "It provides an interface to access elements sequentially.\n",
    "Here's an example of how to initialize an iterator and iterate over the first five elements of the given list \n",
    "[2, 4, 6, 8, 10, 12, 14, 16, 18, 20]:"
   ]
  },
  {
   "cell_type": "code",
   "execution_count": 2,
   "id": "a7bd689c-f0e6-400f-a105-28c10d8982e0",
   "metadata": {},
   "outputs": [
    {
     "name": "stdout",
     "output_type": "stream",
     "text": [
      "2\n",
      "4\n",
      "6\n",
      "8\n",
      "10\n"
     ]
    }
   ],
   "source": [
    "my_list = [2, 4, 6, 8, 10, 12, 14, 16, 18, 20]\n",
    "\n",
    "# Initializing the iterator object\n",
    "my_iterator = iter(my_list)\n",
    "\n",
    "# Iterating over the first five elements\n",
    "for _ in range(5):\n",
    "    element = next(my_iterator)\n",
    "    print(element)\n"
   ]
  },
  {
   "cell_type": "code",
   "execution_count": null,
   "id": "4eaeaa34-335d-41c0-bddc-359ba37a29e2",
   "metadata": {},
   "outputs": [],
   "source": [
    "Q4.  What is a generator function in python? Why yield keyword is used? Give an example of a generator \n",
    "function.\n",
    "Ans4- In Python, a generator function is a special type of function that allows you to generate a sequence of values, \n",
    "one at a time, instead of computing and returning them all at once. \n",
    "It uses the yield keyword instead of return to generate values in an iterative manner.\n",
    "When a generator function is called, it returns an iterator object, \n",
    "which can be iterated over using a loop or by using the next() function. \n",
    "Each time a value is generated using the yield keyword, the function's state is saved, \n",
    "and it can be resumed from where it left off when the next value is requested.\n",
    "\n",
    "The yield keyword is used to specify the value to be generated by the generator function.\n",
    "It temporarily suspends the execution of the function, saves its internal state, and returns the yielded value to the caller. \n",
    "When the generator is iterated over again, \n",
    "it resumes execution from the last yield statement and continues until the next yield is encountered.\n",
    "\n",
    "Here's an example of a generator function that generates a sequence of even numbers:"
   ]
  },
  {
   "cell_type": "code",
   "execution_count": 3,
   "id": "8c39d121-dac9-4ac8-a791-ae33d75809b3",
   "metadata": {},
   "outputs": [
    {
     "name": "stdout",
     "output_type": "stream",
     "text": [
      "0\n",
      "2\n",
      "4\n",
      "6\n",
      "8\n",
      "10\n"
     ]
    }
   ],
   "source": [
    "def even_numbers(n):\n",
    "    i = 0\n",
    "    while i <= n:\n",
    "        yield i\n",
    "        i += 2\n",
    "\n",
    "# Using the generator function\n",
    "even_gen = even_numbers(10)\n",
    "for num in even_gen:\n",
    "    print(num)\n"
   ]
  },
  {
   "cell_type": "code",
   "execution_count": null,
   "id": "fc5846d4-b147-4655-a77d-ebfb1f66d29e",
   "metadata": {},
   "outputs": [],
   "source": [
    "Q5. Create a generator function for prime numbers less than 1000. Use the next() method to print the \n",
    "first 20 prime numbers\n",
    "Ans-\n",
    "Here's a generator function in Python that generates prime numbers less than 1000 and uses the next() method to print the first 20 prime numbers:"
   ]
  },
  {
   "cell_type": "code",
   "execution_count": 2,
   "id": "1ad448e0-5952-4350-acd2-dae26357b572",
   "metadata": {},
   "outputs": [
    {
     "name": "stdout",
     "output_type": "stream",
     "text": [
      "2\n",
      "3\n",
      "5\n",
      "7\n",
      "11\n",
      "13\n",
      "17\n",
      "19\n",
      "23\n",
      "29\n",
      "31\n",
      "37\n",
      "41\n",
      "43\n",
      "47\n",
      "53\n",
      "59\n",
      "61\n",
      "67\n",
      "71\n",
      "73\n",
      "79\n",
      "83\n",
      "89\n",
      "97\n",
      "101\n",
      "103\n",
      "107\n",
      "109\n",
      "113\n",
      "127\n",
      "131\n",
      "137\n",
      "139\n",
      "149\n",
      "151\n",
      "157\n",
      "163\n",
      "167\n",
      "173\n",
      "179\n",
      "181\n",
      "191\n",
      "193\n",
      "197\n",
      "199\n",
      "211\n",
      "223\n",
      "227\n",
      "229\n",
      "233\n",
      "239\n",
      "241\n",
      "251\n",
      "257\n",
      "263\n",
      "269\n",
      "271\n",
      "277\n",
      "281\n",
      "283\n",
      "293\n",
      "307\n",
      "311\n",
      "313\n",
      "317\n",
      "331\n",
      "337\n",
      "347\n",
      "349\n",
      "353\n",
      "359\n",
      "367\n",
      "373\n",
      "379\n",
      "383\n",
      "389\n",
      "397\n",
      "401\n",
      "409\n",
      "419\n",
      "421\n",
      "431\n",
      "433\n",
      "439\n",
      "443\n",
      "449\n",
      "457\n",
      "461\n",
      "463\n",
      "467\n",
      "479\n",
      "487\n",
      "491\n",
      "499\n",
      "503\n",
      "509\n",
      "521\n",
      "523\n",
      "541\n",
      "547\n",
      "557\n",
      "563\n",
      "569\n",
      "571\n",
      "577\n",
      "587\n",
      "593\n",
      "599\n",
      "601\n",
      "607\n",
      "613\n",
      "617\n",
      "619\n",
      "631\n",
      "641\n",
      "643\n",
      "647\n",
      "653\n",
      "659\n",
      "661\n",
      "673\n",
      "677\n",
      "683\n",
      "691\n",
      "701\n",
      "709\n",
      "719\n",
      "727\n",
      "733\n",
      "739\n",
      "743\n",
      "751\n",
      "757\n",
      "761\n",
      "769\n",
      "773\n",
      "787\n",
      "797\n",
      "809\n",
      "811\n",
      "821\n",
      "823\n",
      "827\n",
      "829\n",
      "839\n",
      "853\n",
      "857\n",
      "859\n",
      "863\n",
      "877\n",
      "881\n",
      "883\n",
      "887\n",
      "907\n",
      "911\n",
      "919\n",
      "929\n",
      "937\n",
      "941\n",
      "947\n",
      "953\n",
      "967\n",
      "971\n",
      "977\n",
      "983\n",
      "991\n",
      "997\n"
     ]
    }
   ],
   "source": [
    "def prime_generator():\n",
    "    yield 2  \n",
    "    primes = [2] \n",
    "    num = 3\n",
    "    \n",
    "    while num < 1000:\n",
    "        is_prime = True\n",
    "        \n",
    "       \n",
    "        for prime in primes:\n",
    "            if num % prime == 0:\n",
    "                is_prime = False\n",
    "                break\n",
    "        \n",
    "        if is_prime:\n",
    "            primes.append(num)\n",
    "            yield num\n",
    "        \n",
    "        num += 2  \n",
    "\n",
    "primes = prime_generator()\n",
    "\n",
    "for prime in primes:\n",
    "    print(prime)\n"
   ]
  },
  {
   "cell_type": "code",
   "execution_count": 5,
   "id": "b7d6bdda-54a6-466b-8438-8158b3e0e80f",
   "metadata": {},
   "outputs": [
    {
     "name": "stdout",
     "output_type": "stream",
     "text": [
      "2\n",
      "3\n",
      "5\n",
      "7\n",
      "11\n",
      "13\n",
      "17\n",
      "19\n",
      "23\n",
      "29\n",
      "31\n",
      "37\n",
      "41\n",
      "43\n",
      "47\n",
      "53\n",
      "59\n",
      "61\n",
      "67\n",
      "71\n"
     ]
    }
   ],
   "source": [
    "def generate_primes():\n",
    "    primes = []\n",
    "    num = 2\n",
    "\n",
    "    while True:\n",
    "        if all(num % prime != 0 for prime in primes):\n",
    "            primes.append(num)\n",
    "            yield num\n",
    "\n",
    "        num += 1\n",
    "\n",
    "\n",
    "prime_generator = generate_primes()\n",
    "\n",
    "for _ in range(20):\n",
    "    print(next(prime_generator))\n"
   ]
  },
  {
   "cell_type": "code",
   "execution_count": null,
   "id": "dea13390-2f2d-4846-bd79-9206503318e3",
   "metadata": {},
   "outputs": [],
   "source": [
    "Q6. Write a python program to print the first 10 Fibonacci numbers using a while loop\n",
    "ans 6- Here's a Python program that uses a while loop to print the first 10 Fibonacci numbers:\n"
   ]
  },
  {
   "cell_type": "code",
   "execution_count": 13,
   "id": "bb7c1e54-f86a-4c8d-989b-7b4b6691a64e",
   "metadata": {},
   "outputs": [
    {
     "name": "stdout",
     "output_type": "stream",
     "text": [
      "0\n",
      "1\n",
      "1\n",
      "2\n",
      "3\n",
      "5\n",
      "8\n",
      "13\n",
      "21\n",
      "34\n"
     ]
    }
   ],
   "source": [
    "\n",
    "def print_fibonacci():\n",
    "   \n",
    "    a , b = 0, 1\n",
    "\n",
    "    count = 0\n",
    "    while count < 10:\n",
    "        print(a)\n",
    "        \n",
    "        a, b = b, a +b\n",
    "        count += 1\n",
    "\n",
    "\n",
    "print_fibonacci()\n"
   ]
  },
  {
   "cell_type": "code",
   "execution_count": null,
   "id": "58c23207-56c1-4e19-b82b-2a95cde22802",
   "metadata": {},
   "outputs": [],
   "source": [
    "Q7. Write a List Comprehension to iterate through the given string: ‘pwskills’.\n",
    "\n",
    "Expected output: ['p', 'w', 's', 'k', 'i', 'l', 'l', 's']\n",
    "Ans 7- We can write it as-\n"
   ]
  },
  {
   "cell_type": "code",
   "execution_count": 15,
   "id": "4b01f12f-ce2e-4a49-8d1b-b0f68dc6ae4f",
   "metadata": {},
   "outputs": [
    {
     "name": "stdout",
     "output_type": "stream",
     "text": [
      "['p', 'w', 's', 'k', 'i', 'l', 'l', 's']\n"
     ]
    }
   ],
   "source": [
    "str = 'pwskills'\n",
    "result = [char for char in str]\n",
    "print(result)\n"
   ]
  },
  {
   "cell_type": "code",
   "execution_count": null,
   "id": "bcd04465-ae3c-4849-846d-e4f275f97e5d",
   "metadata": {},
   "outputs": [],
   "source": [
    "Q8. Write a python program to check whether a given number is Palindrome or not using a while loop.\n",
    "Ans 8-\n",
    "Python program that checks whether a given number is a palindrome or not using a while loop.\n"
   ]
  },
  {
   "cell_type": "code",
   "execution_count": 3,
   "id": "d953e055-dda2-40b7-86eb-0414b9edcf14",
   "metadata": {},
   "outputs": [
    {
     "name": "stdin",
     "output_type": "stream",
     "text": [
      "Enter a number:  156651\n"
     ]
    },
    {
     "name": "stdout",
     "output_type": "stream",
     "text": [
      "156651 is a palindrome\n"
     ]
    }
   ],
   "source": [
    "def is_palindrome(num):\n",
    "    original_num = num\n",
    "    reversed_num = 0\n",
    "\n",
    "    while num > 0:\n",
    "       \n",
    "        last_digit = num % 10\n",
    "\n",
    "        \n",
    "        reversed_num = (reversed_num * 10) + last_digit\n",
    "\n",
    "        \n",
    "        num = num // 10\n",
    "\n",
    "    \n",
    "    if original_num == reversed_num:\n",
    "        return True\n",
    "    else:\n",
    "        return False\n",
    "\n",
    "\n",
    "number = int(input(\"Enter a number: \"))\n",
    "\n",
    "if is_palindrome(number):\n",
    "    print(number, \"is a palindrome\")\n",
    "else:\n",
    "    print(number, \"is not a palindrome\")\n"
   ]
  },
  {
   "cell_type": "code",
   "execution_count": null,
   "id": "fd7354f0-9d26-40c7-958d-c96bb26c8cc3",
   "metadata": {},
   "outputs": [],
   "source": [
    "Q9. Write a code to print odd numbers from 1 to 100 using list comprehension.\n",
    "ans 9-\n",
    " example of code that uses list comprehension to print odd numbers from 1 to 100:\n",
    "\n"
   ]
  },
  {
   "cell_type": "code",
   "execution_count": 17,
   "id": "9c9042f1-a988-4066-bd7b-57aadb8d08fa",
   "metadata": {},
   "outputs": [
    {
     "name": "stdout",
     "output_type": "stream",
     "text": [
      "1\n",
      "3\n",
      "5\n",
      "7\n",
      "9\n",
      "11\n",
      "13\n",
      "15\n",
      "17\n",
      "19\n",
      "21\n",
      "23\n",
      "25\n",
      "27\n",
      "29\n",
      "31\n",
      "33\n",
      "35\n",
      "37\n",
      "39\n",
      "41\n",
      "43\n",
      "45\n",
      "47\n",
      "49\n",
      "51\n",
      "53\n",
      "55\n",
      "57\n",
      "59\n",
      "61\n",
      "63\n",
      "65\n",
      "67\n",
      "69\n",
      "71\n",
      "73\n",
      "75\n",
      "77\n",
      "79\n",
      "81\n",
      "83\n",
      "85\n",
      "87\n",
      "89\n",
      "91\n",
      "93\n",
      "95\n",
      "97\n",
      "99\n"
     ]
    }
   ],
   "source": [
    "odd_numbers = [num for num in range(1, 101) if num % 2 != 0]\n",
    "\n",
    "for num in odd_numbers:\n",
    "    print(num)\n"
   ]
  },
  {
   "cell_type": "code",
   "execution_count": null,
   "id": "a3e35a4a-0aae-4f12-93b7-43647a04d3ad",
   "metadata": {},
   "outputs": [],
   "source": []
  }
 ],
 "metadata": {
  "kernelspec": {
   "display_name": "Python 3 (ipykernel)",
   "language": "python",
   "name": "python3"
  },
  "language_info": {
   "codemirror_mode": {
    "name": "ipython",
    "version": 3
   },
   "file_extension": ".py",
   "mimetype": "text/x-python",
   "name": "python",
   "nbconvert_exporter": "python",
   "pygments_lexer": "ipython3",
   "version": "3.10.8"
  }
 },
 "nbformat": 4,
 "nbformat_minor": 5
}
